{
  "cells": [
    {
      "cell_type": "markdown",
      "metadata": {
        "id": "dokj3AV9zI6Z"
      },
      "source": [
        "## Tutorial - Seq2Seq model for Neural Machine Translation\n",
        "This tutorial is adapted from [_NLP From Scratch: Translation with a Sequence to Sequence Network and Attention_](https://pytorch.org/tutorials/intermediate/seq2seq_translation_tutorial.html) tutorial from Pytoch documentations.\n",
        "\n",
        "In this tutorial you will learn how to one language to another using neural network. Here, we translate English to French as example.\n",
        "\n",
        "```\n",
        "[KEY: > input, = target, < output]\n",
        "\n",
        "> il est en train de peindre un tableau .\n",
        "= he is painting a picture .\n",
        "< he is painting a picture .\n",
        "\n",
        "> pourquoi ne pas essayer ce vin delicieux ?\n",
        "= why not try that delicious wine ?\n",
        "< why not try that delicious wine ?\n",
        "\n",
        "> vous etes trop maigre .\n",
        "= you re too skinny .\n",
        "< you re all alone .\n",
        "\n",
        "```"
      ]
    },
    {
      "cell_type": "code",
      "execution_count": null,
      "metadata": {
        "id": "VWU237IjzI6e"
      },
      "outputs": [],
      "source": [
        "# !pip3 install torch numpy matplotlib"
      ]
    },
    {
      "cell_type": "code",
      "execution_count": null,
      "metadata": {
        "id": "fZldjD8hzI6h"
      },
      "outputs": [],
      "source": [
        "## Requirements\n",
        "from __future__ import unicode_literals, print_function, division\n",
        "from io import open\n",
        "import unicodedata\n",
        "import string\n",
        "import re\n",
        "import random\n",
        "\n",
        "import torch\n",
        "import torch.nn as nn\n",
        "from torch import optim\n",
        "import torch.nn.functional as F\n",
        "\n",
        "device = torch.device(\"cuda\" if torch.cuda.is_available() else \"cpu\")"
      ]
    },
    {
      "cell_type": "code",
      "execution_count": null,
      "metadata": {
        "colab": {
          "base_uri": "https://localhost:8080/"
        },
        "id": "2dKM4MtnDmoD",
        "outputId": "e1bd86c9-0a58-4bbd-b7ea-b3d463b12fc1"
      },
      "outputs": [
        {
          "name": "stdout",
          "output_type": "stream",
          "text": [
            "cpu\n"
          ]
        }
      ],
      "source": [
        "print(device)"
      ]
    },
    {
      "cell_type": "code",
      "execution_count": null,
      "metadata": {
        "colab": {
          "base_uri": "https://localhost:8080/"
        },
        "id": "TTnXQKQ55UaK",
        "outputId": "fb193c32-d2d0-4164-94ec-2eaa776b3049"
      },
      "outputs": [
        {
          "name": "stdout",
          "output_type": "stream",
          "text": [
            "Mounted at /content/drive\n"
          ]
        }
      ],
      "source": [
        "from google.colab import drive\n",
        "drive.mount('/content/drive')\n",
        "#replace the following path according to your Google Drive path (upload the \"data\" folder in the zip file to your google drive first, then\n",
        "# change the following file path to the directory you store the \"data\" folder)\n",
        "#file_path = \"/content/drive/MyDrive/5217_tutorials/Week7/\""
      ]
    },
    {
      "cell_type": "code",
      "execution_count": null,
      "metadata": {
        "id": "xjuazQ5KUGfl"
      },
      "outputs": [],
      "source": [
        "file_path = \"/content\""
      ]
    },
    {
      "cell_type": "markdown",
      "metadata": {
        "id": "nhSqk3xOzI6i"
      },
      "source": [
        "### Part1 - Seq2Seq model"
      ]
    },
    {
      "cell_type": "markdown",
      "metadata": {
        "id": "RxgAt3tYzI6k"
      },
      "source": [
        "Transforming one sequence to another is possible by the simple but powerful idea of the [sequence to sequence network](https://arxiv.org/abs/1409.3215), in which two recurrent neural networks work. An encoder network condenses an input sequence into a vector, and a decoder network unfolds that vector into a new sequence.\n",
        "\n",
        "![seq2seq](https://pytorch.org/tutorials/_images/seq2seq.png)"
      ]
    },
    {
      "cell_type": "markdown",
      "metadata": {
        "id": "k8pfH3G-zI6l"
      },
      "source": [
        "#### Loading data files"
      ]
    },
    {
      "cell_type": "markdown",
      "metadata": {
        "id": "P1qodl52zI6l"
      },
      "source": [
        "The data used in this tutorial contains thousands of English to French translation pairs.\n",
        "\n",
        "This question on Open Data Stack Exchange pointed me to the open translation site https://tatoeba.org/ which has downloads available at https://tatoeba.org/eng/downloads - and better yet, someone did the extra work of splitting language pairs into individual text files here: https://www.manythings.org/anki/\n",
        "\n",
        "The English to French pairs can be found at data/eng-fra.txt. It is a tab separated list of translation pairs.\n",
        "```\n",
        "I am cold.    J'ai froid.\n",
        "```"
      ]
    },
    {
      "cell_type": "markdown",
      "metadata": {
        "id": "usIv7r7NzI6n"
      },
      "source": [
        "We will be representing each word in a language as a one-hot vector, or giant vector of zeros except for a single one (at the index of the word). There are many more words, so the encoding vector is much larger. We will however cheat a bit and trim the data to only use a few thousand words per language.\n",
        "\n",
        "![vocab](https://pytorch.org/tutorials/_images/word-encoding.png)\n",
        "\n",
        "We’ll need a unique index per word to use as the inputs and targets of the networks later. To keep track of all this we will use a helper class called Lang which has word → index (word2index) and index → word (index2word) dictionaries, as well as a count of each word word2count which will be used to replace rare words later."
      ]
    },
    {
      "cell_type": "code",
      "execution_count": null,
      "metadata": {
        "id": "GIF75UoszI6o"
      },
      "outputs": [],
      "source": [
        "SOS_token = 0\n",
        "EOS_token = 1\n",
        "\n",
        "\n",
        "class Lang:\n",
        "    def __init__(self, name):\n",
        "        self.name = name\n",
        "        self.word2index = {}\n",
        "        self.word2count = {}\n",
        "        self.index2word = {0: \"SOS\", 1: \"EOS\"}\n",
        "        self.n_words = 2  # Count SOS and EOS\n",
        "\n",
        "    def addSentence(self, sentence):\n",
        "        for word in sentence.split(' '):\n",
        "            self.addWord(word)\n",
        "\n",
        "    def addWord(self, word):\n",
        "        if word not in self.word2index:\n",
        "            self.word2index[word] = self.n_words\n",
        "            self.word2count[word] = 1\n",
        "            self.index2word[self.n_words] = word\n",
        "            self.n_words += 1\n",
        "        else:\n",
        "            self.word2count[word] += 1"
      ]
    },
    {
      "cell_type": "markdown",
      "metadata": {
        "id": "Jhpa39gqzI6q"
      },
      "source": [
        "All files are in Unicode, to simplify, we will turn Unicode characters to ASCII, make everything lowercase, and trim most punctuation."
      ]
    },
    {
      "cell_type": "code",
      "execution_count": null,
      "metadata": {
        "id": "bCghv1VyzI6q"
      },
      "outputs": [],
      "source": [
        "# Turn a Unicode string to plain ASCII, thanks to\n",
        "# https://stackoverflow.com/a/518232/2809427\n",
        "def unicodeToAscii(s):\n",
        "    return ''.join(\n",
        "        c for c in unicodedata.normalize('NFD', s)\n",
        "        if unicodedata.category(c) != 'Mn'\n",
        "    )\n",
        "\n",
        "# Lowercase, trim, and remove non-letter characters\n",
        "\n",
        "\n",
        "def normalizeString(s):\n",
        "    s = unicodeToAscii(s.lower().strip())\n",
        "    s = re.sub(r\"([.!?])\", r\" \\1\", s)\n",
        "    s = re.sub(r\"[^a-zA-Z.!?]+\", r\" \", s)\n",
        "    return s"
      ]
    },
    {
      "cell_type": "markdown",
      "metadata": {
        "id": "6JKaq7QGzI6r"
      },
      "source": [
        "To read the data file we will split the file into lines, and then split lines into pairs. The used files contain English → Other Language, so I added the `reverse` flag to reverse the pairs, in case that you want to translate from Other Language → English ."
      ]
    },
    {
      "cell_type": "code",
      "execution_count": null,
      "metadata": {
        "id": "fG4twu-pzI6s"
      },
      "outputs": [],
      "source": [
        "def readLangs(lang1, lang2, reverse=False):\n",
        "    print(\"Reading lines...\")\n",
        "\n",
        "    # Read the file and split into lines\n",
        "    file_name = file_path + '/%s-%s.txt' % (lang1, lang2)\n",
        "    lines = open(file_name, encoding='utf-8').\\\n",
        "        read().strip().split('\\n')\n",
        "\n",
        "    # Split every line into pairs and normalize\n",
        "    pairs = [[normalizeString(s) for s in l.split('\\t')] for l in lines]\n",
        "\n",
        "    # Reverse pairs, make Lang instances\n",
        "    if reverse:\n",
        "        pairs = [list(reversed(p)) for p in pairs]\n",
        "        input_lang = Lang(lang2)\n",
        "        output_lang = Lang(lang1)\n",
        "    else:\n",
        "        input_lang = Lang(lang1)\n",
        "        output_lang = Lang(lang2)\n",
        "\n",
        "    return input_lang, output_lang, pairs\n"
      ]
    },
    {
      "cell_type": "markdown",
      "metadata": {
        "id": "TyAuHpoGzI6s"
      },
      "source": [
        "Since there are a lot of example sentences and we want to train something quickly, we’ll trim the data set to only relatively short and simple sentences. Here, the maximum length is 10 words (that includes ending punctuation) and the filter considers sentences that translate to the form “I am” or “He is” etc. (accounting for apostrophes replaced earlier)."
      ]
    },
    {
      "cell_type": "code",
      "execution_count": null,
      "metadata": {
        "id": "JFBL2updzI6t"
      },
      "outputs": [],
      "source": [
        "MAX_LENGTH = 10\n",
        "\n",
        "eng_prefixes = (\n",
        "    \"i am \", \"i m \",\n",
        "    \"he is\", \"he s \",\n",
        "    \"she is\", \"she s \",\n",
        "    \"you are\", \"you re \",\n",
        "    \"we are\", \"we re \",\n",
        "    \"they are\", \"they re \"\n",
        ")\n",
        "\n",
        "\n",
        "def filterPair(p):\n",
        "    return len(p[0].split(' ')) < MAX_LENGTH and \\\n",
        "        len(p[1].split(' ')) < MAX_LENGTH and \\\n",
        "        p[1].startswith(eng_prefixes)\n",
        "\n",
        "\n",
        "def filterPairs(pairs):\n",
        "    return [pair for pair in pairs if filterPair(pair)]"
      ]
    },
    {
      "cell_type": "markdown",
      "metadata": {
        "id": "DZgHx1ICzI6u"
      },
      "source": [
        "The full process for preparing the data is:\n",
        "\n",
        "- Read text file and split into lines, split lines into pairs\n",
        "- Normalize text, filter by length and content\n",
        "- Make word lists from sentences in pairs\n"
      ]
    },
    {
      "cell_type": "code",
      "execution_count": null,
      "metadata": {
        "colab": {
          "base_uri": "https://localhost:8080/"
        },
        "id": "yvic3S4UzI6u",
        "outputId": "6d463cc0-7cba-4225-9df9-be010afc232e"
      },
      "outputs": [
        {
          "name": "stdout",
          "output_type": "stream",
          "text": [
            "Reading lines...\n",
            "Read 135842 sentence pairs\n",
            "Trimmed to 10599 sentence pairs\n",
            "Counting words...\n",
            "Counted words:\n",
            "fra 4345\n",
            "eng 2803\n",
            "['je suis sien et elle est mienne .', 'i am hers and she is mine .']\n"
          ]
        }
      ],
      "source": [
        "def prepareData(lang1, lang2, reverse=False):\n",
        "    input_lang, output_lang, pairs = readLangs(lang1, lang2, reverse)\n",
        "    print(\"Read %s sentence pairs\" % len(pairs))\n",
        "    pairs = filterPairs(pairs)\n",
        "    print(\"Trimmed to %s sentence pairs\" % len(pairs))\n",
        "    print(\"Counting words...\")\n",
        "    for pair in pairs:\n",
        "        input_lang.addSentence(pair[0])\n",
        "        output_lang.addSentence(pair[1])\n",
        "    print(\"Counted words:\")\n",
        "    print(input_lang.name, input_lang.n_words)\n",
        "    print(output_lang.name, output_lang.n_words)\n",
        "    return input_lang, output_lang, pairs\n",
        "\n",
        "\n",
        "input_lang, output_lang, pairs = prepareData('eng', 'fra', True)\n",
        "print(random.choice(pairs))"
      ]
    },
    {
      "cell_type": "markdown",
      "metadata": {
        "id": "imdZM1z3zI6v"
      },
      "source": [
        "#### The Seq2Seq Model\n",
        "A Recurrent Neural Network, or RNN, is a network that operates on a sequence and uses its own output as input for subsequent steps.\n",
        "\n",
        "A Sequence to Sequence network, or seq2seq network, or [Encoder Decoder network](https://arxiv.org/pdf/1406.1078v3.pdf), is a model consisting of two RNNs called the encoder and decoder. The encoder reads an input sequence and outputs a single vector, and the decoder reads that vector to produce an output sequence.\n",
        "\n",
        "![seq2seq](https://pytorch.org/tutorials/_images/seq2seq.png)"
      ]
    },
    {
      "cell_type": "markdown",
      "metadata": {
        "id": "qsFHCitqzI6v"
      },
      "source": [
        "Unlike sequence prediction with a single RNN, where every input corresponds to an output, the seq2seq model frees us from sequence length and order, which makes it ideal for translation between two languages.\n",
        "\n",
        "Consider the sentence “Je ne suis pas le chat noir” → “I am not the black cat”. Most of the words in the input sentence have a direct translation in the output sentence, but are in slightly different orders, e.g. “chat noir” and “black cat”. Because of the “ne/pas” construction there is also one more word in the input sentence. It would be difficult to produce a correct translation directly from the sequence of input words.\n",
        "\n",
        "With a seq2seq model the encoder creates a single vector which, in the ideal case, encodes the “meaning” of the input sequence into a single vector — a single point in some N dimensional space of sentences."
      ]
    },
    {
      "cell_type": "markdown",
      "metadata": {
        "id": "uMvAasdlzI6w"
      },
      "source": [
        "#### The Encoder\n",
        "The encoder of a seq2seq network is a RNN that outputs some value for every word from the input sentence. For every input word the encoder outputs a vector and a hidden state, and uses the hidden state for the next input word.\n",
        "\n",
        "![encoder](https://pytorch.org/tutorials/_images/encoder-network.png)"
      ]
    },
    {
      "cell_type": "code",
      "execution_count": null,
      "metadata": {
        "id": "_YTIJriszI6w"
      },
      "outputs": [],
      "source": [
        "class EncoderRNN(nn.Module):\n",
        "    def __init__(self, input_size, hidden_size):\n",
        "        super(EncoderRNN, self).__init__()\n",
        "        self.hidden_size = hidden_size\n",
        "\n",
        "        self.embedding = nn.Embedding(input_size, hidden_size)\n",
        "        '''\n",
        "        GRU is a gated RNN variant that captures long-term dependencies more effectively with fewer parameters. GRU has the same output shape as a standard RNN when configured identically.\n",
        "        '''\n",
        "        self.gru = nn.GRU(hidden_size, hidden_size)\n",
        "\n",
        "    def forward(self, input, hidden):\n",
        "        embedded = self.embedding(input).view(1, 1, -1)\n",
        "        output = embedded\n",
        "        output, hidden = self.gru(output, hidden)\n",
        "        return output, hidden\n",
        "\n",
        "    def initHidden(self):\n",
        "        return torch.zeros(1, 1, self.hidden_size, device=device)"
      ]
    },
    {
      "cell_type": "markdown",
      "metadata": {
        "id": "Ni5tVIuNzI6w"
      },
      "source": [
        "#### The Decoder\n",
        "The decoder is another RNN that takes the encoder output vector(s) and outputs a sequence of words to create the translation.\n",
        "\n",
        "**Simple Decoder**\n",
        "\n",
        "In the simplest seq2seq decoder, we only use the last output of the encoder. This last output is sometimes called the context vector as it encodes context for the entire sequence. This context vector is used as the initial hidden state of the decoder.\n",
        "\n",
        "At every step of decoding, the decoder is given an input token and hidden state. The initial input token is the start-of-string <SOS> token, and the first hidden state is the context vector (the encoder’s last hidden state).\n",
        "![decoder](https://pytorch.org/tutorials/_images/decoder-network.png)"
      ]
    },
    {
      "cell_type": "code",
      "execution_count": null,
      "metadata": {
        "id": "zVdYy0A8zI6x"
      },
      "outputs": [],
      "source": [
        "class DecoderRNN(nn.Module):\n",
        "    def __init__(self, hidden_size, output_size):\n",
        "        super(DecoderRNN, self).__init__()\n",
        "        self.hidden_size = hidden_size\n",
        "\n",
        "        self.embedding = nn.Embedding(output_size, hidden_size)\n",
        "        self.gru = nn.GRU(hidden_size, hidden_size)\n",
        "        self.out = nn.Linear(hidden_size, output_size)\n",
        "        self.softmax = nn.LogSoftmax(dim=1)\n",
        "\n",
        "    def forward(self, input, hidden):\n",
        "        output = self.embedding(input).view(1, 1, -1)\n",
        "        output = F.relu(output)\n",
        "        output, hidden = self.gru(output, hidden)\n",
        "        output = self.softmax(self.out(output[0]))\n",
        "        return output, hidden\n",
        "\n",
        "    def initHidden(self):\n",
        "        return torch.zeros(1, 1, self.hidden_size, device=device)\n"
      ]
    },
    {
      "cell_type": "markdown",
      "metadata": {
        "id": "_anYBECZzI6y"
      },
      "source": [
        "#### Preparing Training data\n",
        "To train, for each pair we will need an input tensor (indexes of the words in the input sentence) and target tensor (indexes of the words in the target sentence). While creating these vectors we will append the EOS token to both sequences."
      ]
    },
    {
      "cell_type": "code",
      "execution_count": null,
      "metadata": {
        "id": "WR_e0NCpzI6y"
      },
      "outputs": [],
      "source": [
        "def indexesFromSentence(lang, sentence):\n",
        "    return [lang.word2index[word] for word in sentence.split(' ')]\n",
        "\n",
        "\n",
        "def tensorFromSentence(lang, sentence):\n",
        "    indexes = indexesFromSentence(lang, sentence)\n",
        "    indexes.append(EOS_token)\n",
        "    return torch.tensor(indexes, dtype=torch.long, device=device).view(-1, 1)\n",
        "\n",
        "\n",
        "def tensorsFromPair(pair):\n",
        "    input_tensor = tensorFromSentence(input_lang, pair[0])\n",
        "    target_tensor = tensorFromSentence(output_lang, pair[1])\n",
        "    return (input_tensor, target_tensor)"
      ]
    },
    {
      "cell_type": "markdown",
      "metadata": {
        "id": "TiQI6_KUzI6z"
      },
      "source": [
        "#### Training the Model\n",
        "To train we run the input sentence through the encoder, and keep track of every output and the latest hidden state. Then the decoder is given the `<SOS>` token as its first input, and the last hidden state of the encoder as its first hidden state.\n",
        "\n",
        "“Teacher forcing” is the concept of using the real target outputs as each next input, instead of using the decoder’s guess as the next input. Using teacher forcing causes it to converge faster but when the trained network is exploited, it may exhibit instability.\n",
        "\n",
        "You can observe outputs of teacher-forced networks that read with coherent grammar but wander far from the correct translation - intuitively it has learned to represent the output grammar and can “pick up” the meaning once the teacher tells it the first few words, but it has not properly learned how to create the sentence from the translation in the first place.\n",
        "\n",
        "Because of the freedom PyTorch’s autograd gives us, we can randomly choose to use teacher forcing or not with a simple if statement. Turn `teacher_forcing_ratio` up to use more of it."
      ]
    },
    {
      "cell_type": "code",
      "execution_count": null,
      "metadata": {
        "id": "uzyLpmtWzI6z"
      },
      "outputs": [],
      "source": [
        "# The probability of using teacher forcing during training (see below for what it means)\n",
        "teacher_forcing_ratio = 0.5\n",
        "\n",
        "# This function trains one pair of input and target sequences using the given encoder and decoder models\n",
        "def train(input_tensor, target_tensor, encoder, decoder, encoder_optimizer, decoder_optimizer, criterion, max_length=MAX_LENGTH):\n",
        "    # Initialize the hidden state for the encoder (usually zeros)\n",
        "    encoder_hidden = encoder.initHidden()\n",
        "\n",
        "    # Reset gradients before backpropagation\n",
        "    encoder_optimizer.zero_grad()\n",
        "    decoder_optimizer.zero_grad()\n",
        "\n",
        "    # Get the lengths of input and target sequences\n",
        "    input_length = input_tensor.size(0)\n",
        "    target_length = target_tensor.size(0)\n",
        "\n",
        "    # Create a tensor to store the encoder’s outputs at each time step\n",
        "    encoder_outputs = torch.zeros(max_length, encoder.hidden_size, device=device)\n",
        "\n",
        "    # Initialize loss for this training example\n",
        "    loss = 0\n",
        "\n",
        "    # Pass the input sequence through the encoder one token at a time\n",
        "    for ei in range(input_length):\n",
        "        # Pass current token and hidden state to encoder\n",
        "        encoder_output, encoder_hidden = encoder(input_tensor[ei], encoder_hidden)\n",
        "        # Store the encoder's output for this time step\n",
        "        encoder_outputs[ei] = encoder_output[0, 0]\n",
        "\n",
        "    # The decoder starts with the <SOS> (start-of-sequence) token as input\n",
        "    decoder_input = torch.tensor([[SOS_token]], device=device)\n",
        "\n",
        "    # Initialize the decoder's hidden state with the encoder's final hidden state\n",
        "    decoder_hidden = encoder_hidden\n",
        "\n",
        "    # Decide randomly whether to use teacher forcing for this example\n",
        "    use_teacher_forcing = True if random.random() < teacher_forcing_ratio else False\n",
        "\n",
        "    if use_teacher_forcing:\n",
        "        # Teacher forcing: feed the true target token as the next input\n",
        "        for di in range(target_length):\n",
        "            # Pass input token and hidden state to decoder\n",
        "            decoder_output, decoder_hidden = decoder(decoder_input, decoder_hidden)\n",
        "            # Calculate loss between decoder output and true target token\n",
        "            loss += criterion(decoder_output, target_tensor[di])\n",
        "            # Use the true target token as the next decoder input\n",
        "            decoder_input = target_tensor[di]  # Teacher forcing\n",
        "\n",
        "    else:\n",
        "        # No teacher forcing: use decoder’s own prediction as next input\n",
        "        for di in range(target_length):\n",
        "            # Pass input token and hidden state to decoder\n",
        "            decoder_output, decoder_hidden = decoder(decoder_input, decoder_hidden)\n",
        "            # Get the most likely predicted token\n",
        "            topv, topi = decoder_output.topk(1)\n",
        "            # Use the predicted token as the next input (detach so it’s not tracked by autograd)\n",
        "            decoder_input = topi.squeeze().detach()\n",
        "\n",
        "            # Calculate loss between decoder output and true target token\n",
        "            loss += criterion(decoder_output, target_tensor[di])\n",
        "            # Stop decoding if the model predicts <EOS> (end-of-sequence)\n",
        "            if decoder_input.item() == EOS_token:\n",
        "                break\n",
        "\n",
        "    # Backpropagate the loss to compute gradients\n",
        "    loss.backward()\n",
        "\n",
        "    # Update model parameters using the gradients\n",
        "    encoder_optimizer.step()\n",
        "    decoder_optimizer.step()\n",
        "\n",
        "    # Return average loss per target token\n",
        "    return loss.item() / target_length"
      ]
    },
    {
      "cell_type": "markdown",
      "metadata": {
        "id": "xW8pT7evzI60"
      },
      "source": [
        "This is a helper function to print time elapsed and estimated time remaining given the current time and progress %."
      ]
    },
    {
      "cell_type": "code",
      "execution_count": null,
      "metadata": {
        "id": "7gXZYsOczI60"
      },
      "outputs": [],
      "source": [
        "import time\n",
        "import math\n",
        "\n",
        "\n",
        "def asMinutes(s):\n",
        "    m = math.floor(s / 60)\n",
        "    s -= m * 60\n",
        "    return '%dm %ds' % (m, s)\n",
        "\n",
        "\n",
        "def timeSince(since, percent):\n",
        "    now = time.time()\n",
        "    s = now - since\n",
        "    es = s / (percent)\n",
        "    rs = es - s\n",
        "    return '%s (- %s)' % (asMinutes(s), asMinutes(rs))"
      ]
    },
    {
      "cell_type": "markdown",
      "metadata": {
        "id": "WQyK8PaJzI60"
      },
      "source": [
        "The whole training process looks like this:\n",
        "\n",
        "- Start a timer\n",
        "- Initialize optimizers and criterion\n",
        "- Create set of training pairs\n",
        "- Start empty losses array for plotting\n",
        "\n",
        "Then we call `train` many times and occasionally print the progress (% of examples, time so far, estimated time) and average loss.\n",
        "\n"
      ]
    },
    {
      "cell_type": "code",
      "execution_count": null,
      "metadata": {
        "id": "4NQNyNEozI60"
      },
      "outputs": [],
      "source": [
        "# This function trains the encoder and decoder for a number of iterations.\n",
        "# It also prints and plots the average loss at regular intervals.\n",
        "def trainIters(encoder, decoder, n_iters, print_every=1000, plot_every=100, learning_rate=0.01):\n",
        "    # Record the starting time to later compute training duration\n",
        "    start = time.time()\n",
        "\n",
        "    # List to store losses for plotting\n",
        "    plot_losses = []\n",
        "\n",
        "    # Running totals for printed and plotted losses\n",
        "    print_loss_total = 0  # Will be reset after every print_every iterations\n",
        "    plot_loss_total = 0   # Will be reset after every plot_every iterations\n",
        "\n",
        "    # Set up optimizers for encoder and decoder using stochastic gradient descent\n",
        "    encoder_optimizer = optim.SGD(encoder.parameters(), lr=learning_rate)\n",
        "    decoder_optimizer = optim.SGD(decoder.parameters(), lr=learning_rate)\n",
        "\n",
        "    # Pre-generate all training input-output pairs for efficiency\n",
        "    # Each pair is converted to input and target tensors\n",
        "    training_pairs = [tensorsFromPair(random.choice(pairs)) for i in range(n_iters)]\n",
        "\n",
        "    # Use negative log-likelihood loss, suitable for classification tasks like word prediction\n",
        "    criterion = nn.NLLLoss()\n",
        "\n",
        "    # Main training loop\n",
        "    for iter in range(1, n_iters + 1):\n",
        "        # Get the input-target tensor pair for this iteration\n",
        "        training_pair = training_pairs[iter - 1]\n",
        "        input_tensor = training_pair[0]\n",
        "        target_tensor = training_pair[1]\n",
        "\n",
        "        # Train the model on this pair and get the loss\n",
        "        loss = train(input_tensor, target_tensor, encoder,\n",
        "                     decoder, encoder_optimizer, decoder_optimizer, criterion)\n",
        "\n",
        "        # Accumulate losses for printing and plotting\n",
        "        print_loss_total += loss\n",
        "        plot_loss_total += loss\n",
        "\n",
        "        # Every `print_every` iterations, print the average loss\n",
        "        if iter % print_every == 0:\n",
        "            print_loss_avg = print_loss_total / print_every\n",
        "            print_loss_total = 0  # Reset the counter after printing\n",
        "            print('%s (%d %d%%) %.4f' % (timeSince(start, iter / n_iters),\n",
        "                                         iter, iter / n_iters * 100, print_loss_avg))\n",
        "\n",
        "        # Every `plot_every` iterations, save the average loss for plotting\n",
        "        if iter % plot_every == 0:\n",
        "            plot_loss_avg = plot_loss_total / plot_every\n",
        "            plot_losses.append(plot_loss_avg)\n",
        "            plot_loss_total = 0  # Reset the counter after saving\n",
        "\n",
        "    # After training is done, plot the recorded losses\n",
        "    showPlot(plot_losses)"
      ]
    },
    {
      "cell_type": "markdown",
      "metadata": {
        "id": "z9Fu80CIzI61"
      },
      "source": [
        "#### Plotting results\n",
        "Plotting is done with matplotlib, using the array of loss values `plot_losses` saved while training."
      ]
    },
    {
      "cell_type": "code",
      "execution_count": null,
      "metadata": {
        "id": "nQk3Npc6zI61"
      },
      "outputs": [],
      "source": [
        "import matplotlib.pyplot as plt\n",
        "plt.switch_backend('agg')\n",
        "import matplotlib.ticker as ticker\n",
        "import numpy as np\n",
        "%matplotlib inline\n",
        "\n",
        "def showPlot(points):\n",
        "    plt.figure()\n",
        "    fig, ax = plt.subplots()\n",
        "    # this locator puts ticks at regular intervals\n",
        "    loc = ticker.MultipleLocator(base=0.2)\n",
        "    ax.yaxis.set_major_locator(loc)\n",
        "    plt.plot(points)\n"
      ]
    },
    {
      "cell_type": "markdown",
      "metadata": {
        "id": "GstsNPB_zI61"
      },
      "source": [
        "#### Evaluation\n",
        "Evaluation is mostly the same as training, but there are no targets so we simply feed the decoder’s predictions back to itself for each step. Every time it predicts a word we add it to the output string, and if it predicts the EOS token we stop there. We also store the decoder’s attention outputs for display later."
      ]
    },
    {
      "cell_type": "code",
      "execution_count": null,
      "metadata": {
        "id": "zHQoRmIezI62"
      },
      "outputs": [],
      "source": [
        "# This function runs the trained encoder and decoder on a given input sentence to generate an output sequence.\n",
        "def evaluate(encoder, decoder, sentence, max_length=MAX_LENGTH):\n",
        "    # We don't need gradients during evaluation, so we disable them for efficiency\n",
        "    with torch.no_grad():\n",
        "        # Convert the input sentence (a string) into a tensor of token indices\n",
        "        input_tensor = tensorFromSentence(input_lang, sentence)\n",
        "        input_length = input_tensor.size()[0]\n",
        "\n",
        "        # Initialize the encoder's hidden state\n",
        "        encoder_hidden = encoder.initHidden()\n",
        "\n",
        "        # Create a tensor to store encoder outputs at each time step (for attention, if used)\n",
        "        encoder_outputs = torch.zeros(max_length, encoder.hidden_size, device=device)\n",
        "\n",
        "        # Pass each token of the input through the encoder one at a time\n",
        "        for ei in range(input_length):\n",
        "            encoder_output, encoder_hidden = encoder(input_tensor[ei], encoder_hidden)\n",
        "            encoder_outputs[ei] += encoder_output[0, 0]  # Store encoder output\n",
        "\n",
        "        # Decoder starts with the <SOS> (start-of-sequence) token\n",
        "        decoder_input = torch.tensor([[SOS_token]], device=device)\n",
        "\n",
        "        # Decoder's initial hidden state is the encoder's final hidden state\n",
        "        decoder_hidden = encoder_hidden\n",
        "\n",
        "        # List to store the output words predicted by the decoder\n",
        "        decoded_words = []\n",
        "\n",
        "        # Tensor to store attention weights (not used here, but often included for attention visualisation)\n",
        "        decoder_attentions = torch.zeros(max_length, max_length)\n",
        "\n",
        "        # Generate words one by one until we reach max_length or predict <EOS>\n",
        "        for di in range(max_length):\n",
        "            # Pass current input and hidden state to the decoder\n",
        "            decoder_output, decoder_hidden = decoder(decoder_input, decoder_hidden)\n",
        "\n",
        "            # Get the most likely next word (highest probability)\n",
        "            topv, topi = decoder_output.data.topk(1)\n",
        "\n",
        "            # If decoder predicts <EOS>, stop decoding\n",
        "            if topi.item() == EOS_token:\n",
        "                decoded_words.append('<EOS>')\n",
        "                break\n",
        "            else:\n",
        "                # Convert predicted index to actual word and append to output sequence\n",
        "                decoded_words.append(output_lang.index2word[topi.item()])\n",
        "\n",
        "            # Use the predicted word as the next input to the decoder (greedy decoding)\n",
        "            decoder_input = topi.squeeze().detach()\n",
        "\n",
        "        # Return the list of predicted words as the final output\n",
        "        return decoded_words"
      ]
    },
    {
      "cell_type": "markdown",
      "metadata": {
        "id": "Z7Vu62-yzI62"
      },
      "source": [
        "We can evaluate random sentences from the training set and print out the input, target, and output to make some subjective quality judgements:"
      ]
    },
    {
      "cell_type": "code",
      "execution_count": null,
      "metadata": {
        "id": "VnGhPPUnzI62"
      },
      "outputs": [],
      "source": [
        "def evaluateRandomly(encoder, decoder, n=10):\n",
        "    for i in range(n):\n",
        "        pair = random.choice(pairs)\n",
        "        print('>', pair[0])\n",
        "        print('=', pair[1])\n",
        "        output_words= evaluate(encoder, decoder, pair[0])\n",
        "        output_sentence = ' '.join(output_words)\n",
        "        print('<', output_sentence)\n",
        "        print('')"
      ]
    },
    {
      "cell_type": "markdown",
      "metadata": {
        "id": "zRTPZpKEzI62"
      },
      "source": [
        "#### Training and Evaluating\n",
        "With all these helper functions in place (it looks like extra work, but it makes it easier to run multiple experiments) we can actually initialize a network and start training.\n",
        "\n",
        "Remember that the input sentences were heavily filtered. For this small dataset we can use relatively small networks of 256 hidden nodes and a single GRU layer. After about 40 minutes on a MacBook CPU (or about 20 minutes on a T4 GPU via Colab) we'll get some reasonable results."
      ]
    },
    {
      "cell_type": "code",
      "execution_count": null,
      "metadata": {
        "colab": {
          "base_uri": "https://localhost:8080/",
          "height": 708
        },
        "id": "uZkDNYsszI63",
        "outputId": "5775515b-0035-4f03-cfd6-2c0390315f36"
      },
      "outputs": [
        {
          "name": "stdout",
          "output_type": "stream",
          "text": [
            "4m 38s (- 64m 52s) (5000 6%) 2.9148\n",
            "9m 2s (- 58m 44s) (10000 13%) 2.3484\n",
            "13m 24s (- 53m 38s) (15000 20%) 2.0368\n",
            "18m 5s (- 49m 44s) (20000 26%) 1.7882\n",
            "22m 47s (- 45m 35s) (25000 33%) 1.5779\n",
            "27m 26s (- 41m 9s) (30000 40%) 1.3992\n",
            "32m 2s (- 36m 36s) (35000 46%) 1.2270\n",
            "36m 44s (- 32m 9s) (40000 53%) 1.0989\n",
            "41m 36s (- 27m 44s) (45000 60%) 0.9695\n",
            "46m 28s (- 23m 14s) (50000 66%) 0.8679\n",
            "51m 13s (- 18m 37s) (55000 73%) 0.7864\n",
            "56m 3s (- 14m 0s) (60000 80%) 0.7138\n",
            "60m 51s (- 9m 21s) (65000 86%) 0.6381\n",
            "65m 36s (- 4m 41s) (70000 93%) 0.5619\n",
            "70m 28s (- 0m 0s) (75000 100%) 0.5103\n"
          ]
        },
        {
          "data": {
            "text/plain": [
              "<Figure size 640x480 with 0 Axes>"
            ]
          },
          "metadata": {},
          "output_type": "display_data"
        },
        {
          "data": {
            "image/png": "[encoded data removed]",
            "text/plain": [
              "<Figure size 640x480 with 1 Axes>"
            ]
          },
          "metadata": {},
          "output_type": "display_data"
        }
      ],
      "source": [
        "# Set the size of the hidden layers in both the encoder and decoder RNNs\n",
        "hidden_size = 256\n",
        "\n",
        "# Create an instance of the encoder RNN\n",
        "# It takes input_lang.n_words as the input vocabulary size (i.e., number of unique input tokens)\n",
        "# and hidden_size as the size of the RNN's hidden state\n",
        "encoder1 = EncoderRNN(input_lang.n_words, hidden_size).to(device)\n",
        "\n",
        "# Create an instance of the decoder RNN\n",
        "# It takes hidden_size from the encoder and output_lang.n_words as the output vocabulary size\n",
        "decoder1 = DecoderRNN(hidden_size, output_lang.n_words).to(device)\n",
        "\n",
        "# Set the total number of training iterations (i.e., how many sentence pairs to train on)\n",
        "n_iters = 75000\n",
        "\n",
        "# Set how often to print the training loss (every 5000 iterations)\n",
        "print_every = 5000\n",
        "\n",
        "# Start the training process using the trainIters function defined earlier\n",
        "# This will train the encoder and decoder over 75,000 sentence pairs,\n",
        "# printing the average loss every 5000 iterations\n",
        "trainIters(encoder1, decoder1, n_iters=n_iters, print_every=print_every)"
      ]
    },
    {
      "cell_type": "code",
      "execution_count": null,
      "metadata": {
        "colab": {
          "base_uri": "https://localhost:8080/"
        },
        "id": "ym6qoZjLzI64",
        "outputId": "c2b0bef0-ebc9-462b-c0b1-14d9c99c77b7"
      },
      "outputs": [
        {
          "name": "stdout",
          "output_type": "stream",
          "text": [
            "> elle est rapide pour tout .\n",
            "= she is quick at everything .\n",
            "< she is everything at everything . <EOS>\n",
            "\n",
            "> nous n en avons pas termine .\n",
            "= we re not done .\n",
            "< we re not done . <EOS>\n",
            "\n",
            "> il est assez sauvage .\n",
            "= he is quite a savage .\n",
            "< he is quite a savage . <EOS>\n",
            "\n",
            "> t es assez bon .\n",
            "= you re pretty good .\n",
            "< you re a good enough . <EOS>\n",
            "\n",
            "> je suis en danger .\n",
            "= i m in danger .\n",
            "< i m in danger . <EOS>\n",
            "\n",
            "> je m entraine pour le triathlon .\n",
            "= i m training for the triathlon .\n",
            "< i m getting up for the . . <EOS>\n",
            "\n",
            "> j en ai assez de ce temps humide .\n",
            "= i am fed up with this wet weather .\n",
            "< i m fed up with this time . . <EOS>\n",
            "\n",
            "> je suis plein de ressources .\n",
            "= i m resourceful .\n",
            "< i m resourceful . <EOS>\n",
            "\n",
            "> ca va .\n",
            "= i m fine .\n",
            "< i m fine with this . <EOS>\n",
            "\n",
            "> il a besoin d argent .\n",
            "= he is in need of money .\n",
            "< he is in need of money . <EOS>\n",
            "\n"
          ]
        }
      ],
      "source": [
        "evaluateRandomly(encoder1, decoder1)"
      ]
    },
    {
      "cell_type": "markdown",
      "metadata": {
        "id": "1qRYuCDwzI64"
      },
      "source": [
        "### Part2 - Seq2Seq with Attention\n",
        "Attention Decoder\n",
        "\n",
        "If only the context vector is passed between the encoder and decoder, that single vector carries the burden of encoding the entire sentence.\n",
        "\n",
        "Attention allows the decoder network to “focus” on a different part of the encoder’s outputs for every step of the decoder’s own outputs. First we calculate a set of attention weights. These will be multiplied by the encoder output vectors to create a weighted combination. The result (called attn_applied in the code) should contain information about that specific part of the input sequence, and thus help the decoder choose the right output words.\n",
        "\n",
        "![attn](https://i.imgur.com/1152PYf.png)\n"
      ]
    },
    {
      "cell_type": "markdown",
      "metadata": {
        "id": "AHfkp8yzzI65"
      },
      "source": [
        "Calculating the attention weights is done with another feed-forward layer `attn`, using the decoder’s input and hidden state as inputs. Because there are sentences of all sizes in the training data, to actually create and train this layer we have to choose a maximum sentence length (input length, for encoder outputs) that it can apply to. Sentences of the maximum length will use all the attention weights, while shorter sentences will only use the first few.\n",
        "\n",
        "<!-- ![encoder-attn](https://pytorch.org/tutorials/_images/attention-decoder-network.png) -->\n"
      ]
    },
    {
      "cell_type": "markdown",
      "metadata": {
        "id": "r4oFihIJJodd"
      },
      "source": [
        "\n",
        "<!-- ![encoder-attn](https://pytorch.org/tutorials/_images/attention-decoder-network.png) -->\n",
        "![attention-decoder-network.png](data:image/png;base64,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)"
      ]
    },
    {
      "cell_type": "code",
      "execution_count": null,
      "metadata": {
        "id": "YAo-3ZvGzI65"
      },
      "outputs": [],
      "source": [
        "# Define a decoder with attention mechanism using PyTorch's nn.Module\n",
        "class AttnDecoderRNN(nn.Module):\n",
        "    def __init__(self, hidden_size, output_size, dropout_p=0.1, max_length=MAX_LENGTH):\n",
        "        # Initialize the base nn.Module class\n",
        "        super(AttnDecoderRNN, self).__init__()\n",
        "\n",
        "        # Save parameters\n",
        "        self.hidden_size = hidden_size              # Size of the hidden state in GRU\n",
        "        self.output_size = output_size              # Size of the output vocabulary\n",
        "        self.dropout_p = dropout_p                  # Dropout probability\n",
        "        self.max_length = max_length                # Max length for encoder outputs (used for attention)\n",
        "\n",
        "        # Define layers\n",
        "        self.embedding = nn.Embedding(self.output_size, self.hidden_size)  # Converts word indices to dense vectors\n",
        "        self.dropout = nn.Dropout(self.dropout_p)                          # Applies dropout for regularization\n",
        "        self.gru = nn.GRU(self.hidden_size, self.hidden_size)              # GRU to process the embedded inputs\n",
        "        self.out = nn.Linear(self.hidden_size * 2, self.output_size)       # Linear layer for generating final output\n",
        "\n",
        "    def forward(self, input, hidden, encoder_outputs):\n",
        "        # Embed the input word (1 word) and reshape to (1, 1, hidden_size)\n",
        "        embedded = self.embedding(input).view(1, 1, -1)\n",
        "\n",
        "        # Apply dropout to the embedding\n",
        "        embedded = self.dropout(embedded)\n",
        "\n",
        "        # Run the GRU with the embedded word and previous hidden state\n",
        "        _, hidden = self.gru(embedded, hidden)\n",
        "\n",
        "        # Compute attention weights using dot-product attention:\n",
        "        # hidden: (1, 1, hidden_size)\n",
        "        # encoder_outputs: (max_length, hidden_size)\n",
        "        # First, we need to unsqueeze encoder_outputs to (1, max_length, hidden_size)\n",
        "        # Then do batch matrix multiply: (1, 1, hidden_size) x (1, hidden_size, max_length)\n",
        "        attn_weights = F.softmax(\n",
        "            torch.bmm(hidden, encoder_outputs.T.unsqueeze(0)),\n",
        "            dim=-1\n",
        "        )  # Shape: (1, 1, max_length)\n",
        "\n",
        "        # Apply attention weights to encoder outputs to get context vector\n",
        "        # attn_weights: (1, 1, max_length)\n",
        "        # encoder_outputs.unsqueeze(0): (1, max_length, hidden_size)\n",
        "        attn_output = torch.bmm(attn_weights, encoder_outputs.unsqueeze(0))  # (1, 1, hidden_size)\n",
        "\n",
        "        # Concatenate attention output and decoder hidden state\n",
        "        concat_output = torch.cat((attn_output[0], hidden[0]), dim=1)  # (1, hidden_size*2)\n",
        "\n",
        "        # Pass through linear layer and softmax to get output word probabilities\n",
        "        output = F.log_softmax(self.out(concat_output), dim=1)  # (1, output_size)\n",
        "\n",
        "        # Return output word distribution, updated hidden state, and attention weights\n",
        "        return output, hidden, attn_weights\n",
        "\n",
        "    def initHidden(self):\n",
        "        # Create an initial hidden state of zeros\n",
        "        return torch.zeros(1, 1, self.hidden_size, device=device)"
      ]
    },
    {
      "cell_type": "markdown",
      "metadata": {
        "id": "0iSlmKKdzI65"
      },
      "source": [
        "#### Training and evaluation Seq2Seq with Attention models"
      ]
    },
    {
      "cell_type": "code",
      "execution_count": null,
      "metadata": {
        "id": "JXNmtVggzI65"
      },
      "outputs": [],
      "source": [
        "# The probability of using teacher forcing during training\n",
        "teacher_forcing_ratio = 0.5\n",
        "\n",
        "# This function trains one input-target pair using an encoder and an attention-based decoder\n",
        "def train_attn(input_tensor, target_tensor, encoder, decoder, encoder_optimizer, decoder_optimizer, criterion, max_length=MAX_LENGTH):\n",
        "    # Initialize the hidden state of the encoder\n",
        "    encoder_hidden = encoder.initHidden()\n",
        "\n",
        "    # Reset gradients for both optimizers before backpropagation\n",
        "    encoder_optimizer.zero_grad()\n",
        "    decoder_optimizer.zero_grad()\n",
        "\n",
        "    # Get the lengths of the input and target sequences\n",
        "    input_length = input_tensor.size(0)\n",
        "    target_length = target_tensor.size(0)\n",
        "\n",
        "    # Create a tensor to store the encoder’s outputs at each timestep (used for attention)\n",
        "    encoder_outputs = torch.zeros(max_length, encoder.hidden_size, device=device)\n",
        "\n",
        "    # Initialize loss to 0 for this training example\n",
        "    loss = 0\n",
        "\n",
        "    # Pass each input token into the encoder one at a time\n",
        "    for ei in range(input_length):\n",
        "        # Get encoder output and updated hidden state\n",
        "        encoder_output, encoder_hidden = encoder(input_tensor[ei], encoder_hidden)\n",
        "        # Store the encoder output at this time step\n",
        "        encoder_outputs[ei] = encoder_output[0, 0]\n",
        "\n",
        "    # Start the decoder with the <SOS> token\n",
        "    decoder_input = torch.tensor([[SOS_token]], device=device)\n",
        "\n",
        "    # Initialize the decoder’s hidden state with the encoder’s final hidden state\n",
        "    decoder_hidden = encoder_hidden\n",
        "\n",
        "    # Decide whether to use teacher forcing for this iteration\n",
        "    use_teacher_forcing = True if random.random() < teacher_forcing_ratio else False\n",
        "\n",
        "    if use_teacher_forcing:\n",
        "        # Feed the actual target tokens to the decoder at each step (teacher forcing)\n",
        "        for di in range(target_length):\n",
        "            # Pass decoder input, hidden state, and encoder outputs to the attention decoder\n",
        "            decoder_output, decoder_hidden, decoder_attention = decoder(\n",
        "                decoder_input, decoder_hidden, encoder_outputs)\n",
        "            # Compute loss between predicted output and true target token\n",
        "            loss += criterion(decoder_output, target_tensor[di])\n",
        "            # Use the actual target token as the next input\n",
        "            decoder_input = target_tensor[di]\n",
        "\n",
        "    else:\n",
        "        # No teacher forcing: feed the decoder’s own prediction as the next input\n",
        "        for di in range(target_length):\n",
        "            # Pass current input and hidden state into the decoder\n",
        "            decoder_output, decoder_hidden, decoder_attention = decoder(\n",
        "                decoder_input, decoder_hidden, encoder_outputs)\n",
        "            # Get the top predicted word index\n",
        "            topv, topi = decoder_output.topk(1)\n",
        "            # Use the predicted word as the next input (detach to avoid tracking history)\n",
        "            decoder_input = topi.squeeze().detach()\n",
        "\n",
        "            # Compute loss with respect to the true target token\n",
        "            loss += criterion(decoder_output, target_tensor[di])\n",
        "\n",
        "            # If the model predicts <EOS>, stop decoding early\n",
        "            if decoder_input.item() == EOS_token:\n",
        "                break\n",
        "\n",
        "    # Compute gradients via backpropagation\n",
        "    loss.backward()\n",
        "\n",
        "    # Update the parameters using the computed gradients\n",
        "    encoder_optimizer.step()\n",
        "    decoder_optimizer.step()\n",
        "\n",
        "    # Return average loss per output token for monitoring\n",
        "    return loss.item() / target_length"
      ]
    },
    {
      "cell_type": "code",
      "execution_count": null,
      "metadata": {
        "id": "aRgSWuwWzI66"
      },
      "outputs": [],
      "source": [
        "# This function evaluates a trained encoder and attention-based decoder on an input sentence.\n",
        "def evaluate_attn(encoder, decoder, sentence, max_length=MAX_LENGTH):\n",
        "    # No gradients are needed during evaluation, so we disable them for efficiency\n",
        "    with torch.no_grad():\n",
        "        # Convert the input sentence into a tensor of word indices\n",
        "        input_tensor = tensorFromSentence(input_lang, sentence)\n",
        "        input_length = input_tensor.size()[0]\n",
        "\n",
        "        # Initialize the encoder's hidden state\n",
        "        encoder_hidden = encoder.initHidden()\n",
        "\n",
        "        # Create a tensor to store encoder outputs (needed for attention)\n",
        "        encoder_outputs = torch.zeros(max_length, encoder.hidden_size, device=device)\n",
        "\n",
        "        # Pass each token of the input sequence through the encoder\n",
        "        for ei in range(input_length):\n",
        "            encoder_output, encoder_hidden = encoder(input_tensor[ei], encoder_hidden)\n",
        "            encoder_outputs[ei] += encoder_output[0, 0]  # Save the output for attention use\n",
        "\n",
        "        # Start decoder with the <SOS> (start-of-sequence) token\n",
        "        decoder_input = torch.tensor([[SOS_token]], device=device)\n",
        "\n",
        "        # Use the encoder's final hidden state to initialize the decoder\n",
        "        decoder_hidden = encoder_hidden\n",
        "\n",
        "        # List to collect the words predicted by the decoder\n",
        "        decoded_words = []\n",
        "\n",
        "        # Tensor to collect attention weights for each decoding step\n",
        "        decoder_attentions = torch.zeros(max_length, max_length)\n",
        "\n",
        "        # Begin decoding step-by-step\n",
        "        for di in range(max_length):\n",
        "            # Run the decoder with current input, hidden state, and all encoder outputs (for attention)\n",
        "            decoder_output, decoder_hidden, decoder_attention = decoder(\n",
        "                decoder_input, decoder_hidden, encoder_outputs)\n",
        "\n",
        "            # Store the attention weights for this step\n",
        "            decoder_attentions[di] = decoder_attention.data\n",
        "\n",
        "            # Get the top predicted word (most likely next word)\n",
        "            topv, topi = decoder_output.data.topk(1)\n",
        "\n",
        "            # If the model predicted <EOS>, stop decoding\n",
        "            if topi.item() == EOS_token:\n",
        "                decoded_words.append('<EOS>')\n",
        "                break\n",
        "            else:\n",
        "                # Otherwise, convert the predicted index to the corresponding word\n",
        "                decoded_words.append(output_lang.index2word[topi.item()])\n",
        "\n",
        "            # Use the predicted word as the next input to the decoder\n",
        "            decoder_input = topi.squeeze().detach()\n",
        "\n",
        "        # Return the decoded sentence and the collected attention weights\n",
        "        return decoded_words, decoder_attentions[:di + 1]  # Only return attention up to the last generated word"
      ]
    },
    {
      "cell_type": "code",
      "execution_count": null,
      "metadata": {
        "id": "5-VObipVzI66"
      },
      "outputs": [],
      "source": [
        "def evaluateRandomly_attn(encoder, decoder, n=10):\n",
        "    for i in range(n):\n",
        "        pair = random.choice(pairs)\n",
        "        print('>', pair[0])\n",
        "        print('=', pair[1])\n",
        "        output_words, attention= evaluate_attn(encoder, decoder, pair[0])\n",
        "        output_sentence = ' '.join(output_words)\n",
        "        print('<', output_sentence)\n",
        "        print('')"
      ]
    },
    {
      "cell_type": "code",
      "execution_count": null,
      "metadata": {
        "id": "nE-XmtzYzI66"
      },
      "outputs": [],
      "source": [
        "# This function runs the training loop for attention-based encoder-decoder models\n",
        "def trainIters_attn(encoder, decoder, n_iters, print_every=1000, plot_every=100, learning_rate=0.01):\n",
        "    # Record the start time so we can report training duration\n",
        "    start = time.time()\n",
        "\n",
        "    # Initialize lists and counters to track losses\n",
        "    plot_losses = []          # Losses to be plotted\n",
        "    print_loss_total = 0      # Running loss for printing (reset every print_every)\n",
        "    plot_loss_total = 0       # Running loss for plotting (reset every plot_every)\n",
        "\n",
        "    # Set up SGD (stochastic gradient descent) optimizers for both encoder and decoder\n",
        "    encoder_optimizer = optim.SGD(encoder.parameters(), lr=learning_rate)\n",
        "    decoder_optimizer = optim.SGD(decoder.parameters(), lr=learning_rate)\n",
        "\n",
        "    # Randomly select training sentence pairs and convert them to tensors\n",
        "    training_pairs = [tensorsFromPair(random.choice(pairs)) for i in range(n_iters)]\n",
        "\n",
        "    # Use negative log-likelihood loss for classification over vocabulary\n",
        "    criterion = nn.NLLLoss()\n",
        "\n",
        "    # Main training loop over all iterations\n",
        "    for iter in range(1, n_iters + 1):\n",
        "        # Get the input and target tensor for the current training example\n",
        "        training_pair = training_pairs[iter - 1]\n",
        "        input_tensor = training_pair[0]\n",
        "        target_tensor = training_pair[1]\n",
        "\n",
        "        # Train on this pair using attention-enabled training function\n",
        "        loss = train_attn(input_tensor, target_tensor, encoder,\n",
        "                          decoder, encoder_optimizer, decoder_optimizer, criterion)\n",
        "\n",
        "        # Accumulate loss values\n",
        "        print_loss_total += loss\n",
        "        plot_loss_total += loss\n",
        "\n",
        "        # Every `print_every` iterations, print average loss so far\n",
        "        if iter % print_every == 0:\n",
        "            print_loss_avg = print_loss_total / print_every\n",
        "            print_loss_total = 0  # Reset counter\n",
        "            print('%s (%d %d%%) %.4f' % (\n",
        "                timeSince(start, iter / n_iters),  # How long training has taken\n",
        "                iter,                              # Current iteration number\n",
        "                iter / n_iters * 100,              # Progress percentage\n",
        "                print_loss_avg                     # Average loss over this interval\n",
        "            ))\n",
        "\n",
        "        # Every `plot_every` iterations, save average loss for plotting\n",
        "        if iter % plot_every == 0:\n",
        "            plot_loss_avg = plot_loss_total / plot_every\n",
        "            plot_losses.append(plot_loss_avg)\n",
        "            plot_loss_total = 0  # Reset counter\n",
        "\n",
        "    # After training, visualize the loss trend over time\n",
        "    showPlot(plot_losses)"
      ]
    },
    {
      "cell_type": "code",
      "execution_count": null,
      "metadata": {
        "colab": {
          "background_save": true,
          "base_uri": "https://localhost:8080/"
        },
        "id": "4P1wpz0tzI67",
        "outputId": "829a4c7f-3a3d-48e1-b9ac-d9f5c270f577"
      },
      "outputs": [
        {
          "name": "stdout",
          "output_type": "stream",
          "text": [
            "6m 22s (- 89m 8s) (5000 6%) 2.7214\n",
            "12m 46s (- 83m 0s) (10000 13%) 2.0161\n",
            "19m 2s (- 76m 11s) (15000 20%) 1.6499\n",
            "25m 10s (- 69m 12s) (20000 26%) 1.4246\n",
            "31m 28s (- 62m 56s) (25000 33%) 1.2220\n",
            "37m 45s (- 56m 38s) (30000 40%) 1.0559\n",
            "44m 29s (- 50m 50s) (35000 46%) 0.9262\n",
            "50m 52s (- 44m 30s) (40000 53%) 0.8148\n",
            "57m 33s (- 38m 22s) (45000 60%) 0.7268\n",
            "63m 51s (- 31m 55s) (50000 66%) 0.6532\n",
            "70m 21s (- 25m 35s) (55000 73%) 0.5923\n",
            "76m 46s (- 19m 11s) (60000 80%) 0.5307\n",
            "82m 57s (- 12m 45s) (65000 86%) 0.4828\n",
            "89m 16s (- 6m 22s) (70000 93%) 0.4429\n",
            "95m 32s (- 0m 0s) (75000 100%) 0.4099\n"
          ]
        },
        {
          "data": {
            "text/plain": [
              "<Figure size 640x480 with 0 Axes>"
            ]
          },
          "metadata": {},
          "output_type": "display_data"
        },
        {
          "data": {
            "image/png": "[encoded data removed]",
            "text/plain": [
              "<Figure size 640x480 with 1 Axes>"
            ]
          },
          "metadata": {},
          "output_type": "display_data"
        }
      ],
      "source": [
        "hidden_size = 256\n",
        "encoder = EncoderRNN(input_lang.n_words, hidden_size).to(device)\n",
        "attn_decoder = AttnDecoderRNN(hidden_size, output_lang.n_words, dropout_p=0.1).to(device)\n",
        "\n",
        "#\n",
        "n_iters = 75000\n",
        "print_every = 5000\n",
        "\n",
        "# about 25 minutes on a T4 GPU via Colab\n",
        "trainIters_attn(encoder, attn_decoder, n_iters= n_iters, print_every=print_every)"
      ]
    },
    {
      "cell_type": "code",
      "execution_count": null,
      "metadata": {
        "colab": {
          "background_save": true
        },
        "id": "IKWrtbAczI67",
        "outputId": "bbe429bb-7459-4a8e-935e-09787c3c5e7b"
      },
      "outputs": [
        {
          "name": "stdout",
          "output_type": "stream",
          "text": [
            "> j ai les glandes .\n",
            "= i m really angry .\n",
            "< i m starved . <EOS>\n",
            "\n",
            "> mes pensees ne sont pas claires .\n",
            "= i m not thinking clearly .\n",
            "< i m not thinking clearly . <EOS>\n",
            "\n",
            "> je veux presenter mes excuses .\n",
            "= i m willing to apologize .\n",
            "< i m willing to apologize . <EOS>\n",
            "\n",
            "> je vais faire autre chose .\n",
            "= i m going to do something else .\n",
            "< i m going to do something else . <EOS>\n",
            "\n",
            "> c est une bonne danseuse .\n",
            "= she is a good dancer .\n",
            "< she is a good dancer . <EOS>\n",
            "\n",
            "> tu es fort sceptique .\n",
            "= you re very skeptical .\n",
            "< you re very skeptical . <EOS>\n",
            "\n",
            "> je rencontre quelqu un pour diner .\n",
            "= i m meeting someone for dinner .\n",
            "< i m meeting someone for dinner . <EOS>\n",
            "\n",
            "> je suis certain de pouvoir persuader tom .\n",
            "= i m sure i can persuade tom .\n",
            "< i m sure i can persuade tom . <EOS>\n",
            "\n",
            "> je suis sur que vous allez reussir .\n",
            "= i m confident that you ll succeed .\n",
            "< i m sure that you ll succeed . <EOS>\n",
            "\n",
            "> je suis a vos cotes .\n",
            "= i m by your side .\n",
            "< i m by your side . <EOS>\n",
            "\n"
          ]
        }
      ],
      "source": [
        "evaluateRandomly_attn(encoder, attn_decoder)"
      ]
    },
    {
      "cell_type": "markdown",
      "metadata": {
        "id": "eTvvuFQNzI67"
      },
      "source": [
        "#### Visualizing Attention\n",
        "A useful property of the attention mechanism is its highly interpretable outputs. Because it is used to weight specific encoder outputs of the input sequence, we can imagine looking where the network is focused most at each time step.\n",
        "\n",
        "You could simply run `plt.matshow(attentions)` to see attention output displayed as a matrix, with the columns being input steps and rows being output steps:"
      ]
    },
    {
      "cell_type": "code",
      "execution_count": null,
      "metadata": {
        "colab": {
          "background_save": true
        },
        "id": "touKY27dzI68",
        "outputId": "c6aa1037-3186-46b3-b23e-127f665dfeb4"
      },
      "outputs": [
        {
          "data": {
            "text/plain": [
              "<matplotlib.image.AxesImage at 0x78a9757f2910>"
            ]
          },
          "execution_count": 33,
          "metadata": {},
          "output_type": "execute_result"
        },
        {
          "data": {
            "image/png": "[encoded data removed]",
            "text/plain": [
              "<Figure size 800x480 with 1 Axes>"
            ]
          },
          "metadata": {},
          "output_type": "display_data"
        }
      ],
      "source": [
        "%matplotlib inline\n",
        "output_words, attentions = evaluate_attn(\n",
        "    encoder, attn_decoder, \"je suis trop froid .\")\n",
        "plt.matshow(attentions.numpy())"
      ]
    },
    {
      "cell_type": "markdown",
      "metadata": {
        "id": "Orb18OQkzI68"
      },
      "source": [
        "For a better viewing experience we will do the extra work of adding axes and labels:"
      ]
    },
    {
      "cell_type": "code",
      "execution_count": null,
      "metadata": {
        "colab": {
          "background_save": true
        },
        "id": "4OmE509wzI68",
        "outputId": "6e576006-4703-4c88-8ecc-b20e9e5204f5"
      },
      "outputs": [
        {
          "name": "stdout",
          "output_type": "stream",
          "text": [
            "input = elle a cinq ans de moins que moi .\n",
            "output = she is five years younger than me . <EOS>\n"
          ]
        },
        {
          "name": "stderr",
          "output_type": "stream",
          "text": [
            "<ipython-input-34-a9d2be5cbafc>:9: UserWarning: set_ticklabels() should only be used with a fixed number of ticks, i.e. after set_ticks() or using a FixedLocator.\n",
            "  ax.set_xticklabels([''] + input_sentence.split(' ') +\n",
            "<ipython-input-34-a9d2be5cbafc>:11: UserWarning: set_ticklabels() should only be used with a fixed number of ticks, i.e. after set_ticks() or using a FixedLocator.\n",
            "  ax.set_yticklabels([''] + output_words)\n"
          ]
        },
        {
          "data": {
            "image/png": "[encoded data removed]",
            "text/plain": [
              "<Figure size 640x480 with 2 Axes>"
            ]
          },
          "metadata": {},
          "output_type": "display_data"
        },
        {
          "name": "stdout",
          "output_type": "stream",
          "text": [
            "input = elle est trop petit .\n",
            "output = she s too short . <EOS>\n"
          ]
        },
        {
          "name": "stderr",
          "output_type": "stream",
          "text": [
            "<ipython-input-34-a9d2be5cbafc>:9: UserWarning: set_ticklabels() should only be used with a fixed number of ticks, i.e. after set_ticks() or using a FixedLocator.\n",
            "  ax.set_xticklabels([''] + input_sentence.split(' ') +\n",
            "<ipython-input-34-a9d2be5cbafc>:11: UserWarning: set_ticklabels() should only be used with a fixed number of ticks, i.e. after set_ticks() or using a FixedLocator.\n",
            "  ax.set_yticklabels([''] + output_words)\n"
          ]
        },
        {
          "data": {
            "image/png": "[encoded data removed]",
            "text/plain": [
              "<Figure size 640x480 with 2 Axes>"
            ]
          },
          "metadata": {},
          "output_type": "display_data"
        },
        {
          "name": "stdout",
          "output_type": "stream",
          "text": [
            "input = je ne crains pas de mourir .\n",
            "output = i m not scared to die . <EOS>\n"
          ]
        },
        {
          "name": "stderr",
          "output_type": "stream",
          "text": [
            "<ipython-input-34-a9d2be5cbafc>:9: UserWarning: set_ticklabels() should only be used with a fixed number of ticks, i.e. after set_ticks() or using a FixedLocator.\n",
            "  ax.set_xticklabels([''] + input_sentence.split(' ') +\n",
            "<ipython-input-34-a9d2be5cbafc>:11: UserWarning: set_ticklabels() should only be used with a fixed number of ticks, i.e. after set_ticks() or using a FixedLocator.\n",
            "  ax.set_yticklabels([''] + output_words)\n"
          ]
        },
        {
          "data": {
            "image/png": "[encoded data removed]",
            "text/plain": [
              "<Figure size 640x480 with 2 Axes>"
            ]
          },
          "metadata": {},
          "output_type": "display_data"
        },
        {
          "name": "stdout",
          "output_type": "stream",
          "text": [
            "input = c est un jeune directeur plein de talent .\n",
            "output = he s a talented young . <EOS>\n"
          ]
        },
        {
          "name": "stderr",
          "output_type": "stream",
          "text": [
            "<ipython-input-34-a9d2be5cbafc>:9: UserWarning: set_ticklabels() should only be used with a fixed number of ticks, i.e. after set_ticks() or using a FixedLocator.\n",
            "  ax.set_xticklabels([''] + input_sentence.split(' ') +\n",
            "<ipython-input-34-a9d2be5cbafc>:11: UserWarning: set_ticklabels() should only be used with a fixed number of ticks, i.e. after set_ticks() or using a FixedLocator.\n",
            "  ax.set_yticklabels([''] + output_words)\n"
          ]
        },
        {
          "data": {
            "image/png": "[encoded data removed]",
            "text/plain": [
              "<Figure size 640x480 with 2 Axes>"
            ]
          },
          "metadata": {},
          "output_type": "display_data"
        }
      ],
      "source": [
        "def showAttention(input_sentence, output_words, attentions):\n",
        "    # Set up figure with colorbar\n",
        "    fig = plt.figure()\n",
        "    ax = fig.add_subplot(111)\n",
        "    cax = ax.matshow(attentions.numpy(), cmap='bone')\n",
        "    fig.colorbar(cax)\n",
        "\n",
        "    # Set up axes\n",
        "    ax.set_xticklabels([''] + input_sentence.split(' ') +\n",
        "                       ['<EOS>'], rotation=90)\n",
        "    ax.set_yticklabels([''] + output_words)\n",
        "\n",
        "    # Show label at every tick\n",
        "    ax.xaxis.set_major_locator(ticker.MultipleLocator(1))\n",
        "    ax.yaxis.set_major_locator(ticker.MultipleLocator(1))\n",
        "\n",
        "    plt.show()\n",
        "\n",
        "\n",
        "def evaluateAndShowAttention(input_sentence):\n",
        "    output_words, attentions = evaluate_attn(\n",
        "        encoder, attn_decoder, input_sentence)\n",
        "    print('input =', input_sentence)\n",
        "    print('output =', ' '.join(output_words))\n",
        "    showAttention(input_sentence, output_words, attentions)\n",
        "\n",
        "\n",
        "evaluateAndShowAttention(\"elle a cinq ans de moins que moi .\")\n",
        "\n",
        "evaluateAndShowAttention(\"elle est trop petit .\")\n",
        "\n",
        "evaluateAndShowAttention(\"je ne crains pas de mourir .\")\n",
        "\n",
        "evaluateAndShowAttention(\"c est un jeune directeur plein de talent .\")"
      ]
    },
    {
      "cell_type": "code",
      "source": [
        "evaluateRandomly_attn(encoder, attn_decoder)"
      ],
      "metadata": {
        "id": "rq-3QMmiuPWO"
      },
      "execution_count": null,
      "outputs": []
    },
    {
      "cell_type": "markdown",
      "metadata": {
        "id": "f3DHX7xtzI69"
      },
      "source": [
        "## Exercises\n",
        "\n",
        "1. In the tutorial, we train our NMT models on a toy dataset by filtering out sentences with length larger than 10 and only considering training pairs with some special English prefixes (see filterPair and filterPairs methods). Remove this filter and retrain the model on the real Tatoeba dataset. Compare the training time and results.\n",
        "2. Try with more layers, more hidden units, and more sentences. Compare the training time and results.\n",
        "3. If you use a translation file where pairs have two of the same phrase (I am test \\t I am test), you can use this as an autoencoder. Try this:\n",
        "- Train as an autoencoder\n",
        "- Save only the Encoder network\n",
        "- Train a new Decoder for translation from there\n"
      ]
    },
    {
      "cell_type": "code",
      "execution_count": null,
      "metadata": {
        "colab": {
          "background_save": true
        },
        "id": "tJ2zoejSYGgF"
      },
      "outputs": [],
      "source": []
    }
  ],
  "metadata": {
    "accelerator": "GPU",
    "colab": {
      "gpuType": "T4",
      "provenance": []
    },
    "kernelspec": {
      "display_name": "Python 3",
      "name": "python3"
    },
    "language_info": {
      "codemirror_mode": {
        "name": "ipython",
        "version": 3
      },
      "file_extension": ".py",
      "mimetype": "text/x-python",
      "name": "python",
      "nbconvert_exporter": "python",
      "pygments_lexer": "ipython3",
      "version": "3.9.6"
    }
  },
  "nbformat": 4,
  "nbformat_minor": 0
}